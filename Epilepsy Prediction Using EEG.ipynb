{
  "cells": [
    {
      "cell_type": "code",
      "execution_count": 14,
      "metadata": {
        "id": "6Us3Sq2uad9D"
      },
      "outputs": [],
      "source": [
        "import numpy as np\n",
        "images=np.load(\"eeg-seizure_train.npz\")\n",
        "train_signals=images[\"train_signals\"]\n",
        "train_labels=images[\"train_labels\"]\n",
        "img2=np.load(\"eeg-seizure_val.npz\")\n",
        "test_signals=img2[\"val_signals\"]\n",
        "test_labels=img2[\"val_labels\"]\n"
      ]
    },
    {
      "cell_type": "code",
      "execution_count": 3,
      "metadata": {
        "colab": {
          "base_uri": "https://localhost:8080/"
        },
        "id": "88h6EGFyainP",
        "outputId": "1c0480bb-375e-458c-92d3-9f659f5fa17d"
      },
      "outputs": [
        {
          "output_type": "stream",
          "name": "stdout",
          "text": [
            "Archive:  drive/My Drive/EEG.zip\n",
            "  inflating: eeg-predictive_train.npz  \n",
            "  inflating: eeg-predictive_val.npz  \n",
            "  inflating: eeg-predictive_val_balanced.npz  \n",
            "  inflating: eeg-seizure_test.npz    \n",
            "  inflating: eeg-seizure_train.npz   \n",
            "  inflating: eeg-seizure_val.npz     \n",
            "  inflating: eeg-seizure_val_balanced.npz  \n"
          ]
        }
      ],
      "source": [
        "!unzip drive/\"My Drive\"/EEG.zip"
      ]
    },
    {
      "cell_type": "code",
      "source": [
        "import tensorflow as tf"
      ],
      "metadata": {
        "id": "VH5ryiYxrEfe"
      },
      "execution_count": 5,
      "outputs": []
    },
    {
      "cell_type": "code",
      "source": [
        "batch=64\n",
        "\n",
        "model = tf.keras.Sequential([\n",
        "    tf.keras.layers.Flatten(),\n",
        "    tf.keras.layers.Dense(6, activation='relu'),\n",
        "    tf.keras.layers.Dense(1, activation='sigmoid')\n",
        "])\n",
        "model.compile(loss='binary_crossentropy',optimizer='adam',metrics=['accuracy'])\n",
        "    \n",
        "num_epochs = 30\n",
        "model.fit(train_signals,train_labels, epochs=num_epochs,batch_size=batch)\n",
        "predicted=model.predict(test_signals)"
      ],
      "metadata": {
        "colab": {
          "base_uri": "https://localhost:8080/"
        },
        "id": "i9R3u8UgwSR4",
        "outputId": "3225f901-ecf5-4188-f091-4c786e355e66"
      },
      "execution_count": 6,
      "outputs": [
        {
          "output_type": "stream",
          "name": "stdout",
          "text": [
            "Epoch 1/30\n",
            "589/589 [==============================] - 8s 4ms/step - loss: 23.3295 - accuracy: 0.6230\n",
            "Epoch 2/30\n",
            "589/589 [==============================] - 2s 4ms/step - loss: 8.3279 - accuracy: 0.7022\n",
            "Epoch 3/30\n",
            "589/589 [==============================] - 2s 4ms/step - loss: 2.6980 - accuracy: 0.7455\n",
            "Epoch 4/30\n",
            "589/589 [==============================] - 2s 4ms/step - loss: 0.7531 - accuracy: 0.8010\n",
            "Epoch 5/30\n",
            "589/589 [==============================] - 2s 4ms/step - loss: 0.4234 - accuracy: 0.8373\n",
            "Epoch 6/30\n",
            "589/589 [==============================] - 2s 4ms/step - loss: 0.3991 - accuracy: 0.8447\n",
            "Epoch 7/30\n",
            "589/589 [==============================] - 2s 4ms/step - loss: 0.3902 - accuracy: 0.8480\n",
            "Epoch 8/30\n",
            "589/589 [==============================] - 2s 4ms/step - loss: 0.3846 - accuracy: 0.8505\n",
            "Epoch 9/30\n",
            "589/589 [==============================] - 2s 4ms/step - loss: 0.3796 - accuracy: 0.8536\n",
            "Epoch 10/30\n",
            "589/589 [==============================] - 2s 4ms/step - loss: 0.3715 - accuracy: 0.8555\n",
            "Epoch 11/30\n",
            "589/589 [==============================] - 2s 4ms/step - loss: 0.3695 - accuracy: 0.8557\n",
            "Epoch 12/30\n",
            "589/589 [==============================] - 2s 4ms/step - loss: 0.3701 - accuracy: 0.8560\n",
            "Epoch 13/30\n",
            "589/589 [==============================] - 2s 4ms/step - loss: 0.3660 - accuracy: 0.8557\n",
            "Epoch 14/30\n",
            "589/589 [==============================] - 2s 4ms/step - loss: 0.3642 - accuracy: 0.8567\n",
            "Epoch 15/30\n",
            "589/589 [==============================] - 2s 4ms/step - loss: 0.3645 - accuracy: 0.8559\n",
            "Epoch 16/30\n",
            "589/589 [==============================] - 2s 4ms/step - loss: 0.3721 - accuracy: 0.8555\n",
            "Epoch 17/30\n",
            "589/589 [==============================] - 2s 4ms/step - loss: 0.3661 - accuracy: 0.8541\n",
            "Epoch 18/30\n",
            "589/589 [==============================] - 2s 4ms/step - loss: 0.3659 - accuracy: 0.8563\n",
            "Epoch 19/30\n",
            "589/589 [==============================] - 2s 4ms/step - loss: 0.3632 - accuracy: 0.8580\n",
            "Epoch 20/30\n",
            "589/589 [==============================] - 2s 4ms/step - loss: 0.3605 - accuracy: 0.8568\n",
            "Epoch 21/30\n",
            "589/589 [==============================] - 2s 4ms/step - loss: 0.3608 - accuracy: 0.8580\n",
            "Epoch 22/30\n",
            "589/589 [==============================] - 2s 4ms/step - loss: 0.3527 - accuracy: 0.8609\n",
            "Epoch 23/30\n",
            "589/589 [==============================] - 2s 4ms/step - loss: 0.3541 - accuracy: 0.8616\n",
            "Epoch 24/30\n",
            "589/589 [==============================] - 2s 4ms/step - loss: 0.3487 - accuracy: 0.8639\n",
            "Epoch 25/30\n",
            "589/589 [==============================] - 2s 4ms/step - loss: 0.3426 - accuracy: 0.8676\n",
            "Epoch 26/30\n",
            "589/589 [==============================] - 2s 4ms/step - loss: 0.3430 - accuracy: 0.8670\n",
            "Epoch 27/30\n",
            "589/589 [==============================] - 2s 4ms/step - loss: 0.3324 - accuracy: 0.8701\n",
            "Epoch 28/30\n",
            "589/589 [==============================] - 2s 4ms/step - loss: 0.3306 - accuracy: 0.8714\n",
            "Epoch 29/30\n",
            "589/589 [==============================] - 2s 4ms/step - loss: 0.3185 - accuracy: 0.8758\n",
            "Epoch 30/30\n",
            "589/589 [==============================] - 2s 4ms/step - loss: 0.3228 - accuracy: 0.8757\n"
          ]
        }
      ]
    },
    {
      "cell_type": "code",
      "source": [
        "counter=0\n",
        "predicted_labels=[]\n",
        "for i in range(len(predicted)):\n",
        "  if predicted[i]>=0.7:\n",
        "    temp=1\n",
        "    predicted_labels.append(temp)\n",
        "    if temp==test_labels[i]:\n",
        "      counter+=1\n",
        "    else:\n",
        "      pass\n",
        "\n",
        "  else:\n",
        "    temp=0\n",
        "    predicted_labels.append(temp)\n",
        "    if temp==test_labels[i]:\n",
        "      counter+=1\n",
        "    else:\n",
        "      pass\n",
        "\n",
        "print(\"Accuracy: \",counter/len(predicted))"
      ],
      "metadata": {
        "colab": {
          "base_uri": "https://localhost:8080/"
        },
        "id": "IJuuvU32159n",
        "outputId": "87c1ac18-7d38-4d17-d06f-da9a6ede3e29"
      },
      "execution_count": 7,
      "outputs": [
        {
          "output_type": "stream",
          "name": "stdout",
          "text": [
            "Accuracy:  0.8131582207904845\n"
          ]
        }
      ]
    }
  ],
  "metadata": {
    "accelerator": "GPU",
    "colab": {
      "collapsed_sections": [],
      "provenance": []
    },
    "gpuClass": "standard",
    "kernelspec": {
      "display_name": "Python 3",
      "name": "python3"
    },
    "language_info": {
      "name": "python"
    }
  },
  "nbformat": 4,
  "nbformat_minor": 0
}